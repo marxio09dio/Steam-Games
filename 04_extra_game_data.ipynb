{
 "cells": [
  {
   "attachments": {},
   "cell_type": "markdown",
   "metadata": {},
   "source": [
    "https://steamspy.com/api.php\n"
   ]
  },
  {
   "cell_type": "code",
   "execution_count": 1,
   "metadata": {},
   "outputs": [],
   "source": [
    "import pandas as pd\n",
    "import requests\n",
    "import json\n",
    "import time"
   ]
  },
  {
   "cell_type": "code",
   "execution_count": 2,
   "metadata": {},
   "outputs": [],
   "source": [
    "df = pd.read_excel('Data/steam_data_cleaned.xlsx')"
   ]
  },
  {
   "cell_type": "code",
   "execution_count": 3,
   "metadata": {},
   "outputs": [
    {
     "data": {
      "text/plain": [
       "0             10\n",
       "1             20\n",
       "2             30\n",
       "3             40\n",
       "4             50\n",
       "          ...   \n",
       "11273    2472270\n",
       "11274    2472500\n",
       "11275    2472840\n",
       "11276    2473150\n",
       "11277    2473690\n",
       "Name: Steam_AppID, Length: 11278, dtype: int64"
      ]
     },
     "execution_count": 3,
     "metadata": {},
     "output_type": "execute_result"
    }
   ],
   "source": [
    "df['Steam_AppID']"
   ]
  },
  {
   "cell_type": "code",
   "execution_count": 4,
   "metadata": {},
   "outputs": [],
   "source": [
    "# Define function to construct URLs for each App_ID\n",
    "def get_app_details(app_id):\n",
    "    url = f\"https://steamspy.com/api.php?request=appdetails&appid={app_id}\"\n",
    "    response = requests.get(url)\n",
    "    data = response.json()\n",
    "    return data\n",
    "\n",
    "# Define function to get number of Negative and Posiive comments and the Peak Players yesterday\n",
    "def get_values(row):\n",
    "    # Get the App_ID from the DF\n",
    "    app_id = row['Steam_AppID']\n",
    "    \n",
    "    # A 1sec delay between requests\n",
    "    time.sleep(1)\n",
    "    \n",
    "    # Get the app details from SteamSpy API for the respective app ID\n",
    "    app_data = get_app_details(app_id)\n",
    "    \n",
    "    # Extract the values from the API\n",
    "    positive_reviews = app_data.get('positive', None)\n",
    "    negative_reviews = app_data.get('negative', None)\n",
    "    Peak_Players_Yesterday = app_data.get('ccu', None)\n",
    "    \n",
    "    # Return a new pandas Series with the values\n",
    "    return pd.Series({'Positive_Reviews': positive_reviews, 'Negative_Reviews': negative_reviews, 'Peak_Players_Yesterday': Peak_Players_Yesterday})\n",
    "\n",
    "# Apply the 'get_values' function to each row of the dataframe\n",
    "df[['Positive_Reviews', 'Negative_Reviews', 'Peak_Players_Yesterday']] = df.apply(get_values, axis=1)"
   ]
  },
  {
   "cell_type": "code",
   "execution_count": null,
   "metadata": {},
   "outputs": [],
   "source": []
  }
 ],
 "metadata": {
  "kernelspec": {
   "display_name": "base",
   "language": "python",
   "name": "python3"
  },
  "language_info": {
   "codemirror_mode": {
    "name": "ipython",
    "version": 3
   },
   "file_extension": ".py",
   "mimetype": "text/x-python",
   "name": "python",
   "nbconvert_exporter": "python",
   "pygments_lexer": "ipython3",
   "version": "3.9.15"
  },
  "orig_nbformat": 4
 },
 "nbformat": 4,
 "nbformat_minor": 2
}
