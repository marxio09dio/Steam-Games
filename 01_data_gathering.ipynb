{
 "cells": [
  {
   "attachments": {},
   "cell_type": "markdown",
   "metadata": {},
   "source": [
    "#### IDs present on this list are from 07/06/2023\n",
    "#### https://api.steampowered.com/ISteamApps/GetAppList/v2/ "
   ]
  },
  {
   "cell_type": "code",
   "execution_count": 1,
   "metadata": {},
   "outputs": [],
   "source": [
    "import requests\n",
    "import pandas as pd\n",
    "import json"
   ]
  },
  {
   "attachments": {},
   "cell_type": "markdown",
   "metadata": {},
   "source": [
    "#### Get app_ids"
   ]
  },
  {
   "cell_type": "code",
   "execution_count": 2,
   "metadata": {},
   "outputs": [],
   "source": [
    "\n",
    "url = \"https://api.steampowered.com/ISteamApps/GetAppList/v2/\"  # URL with the list of apps\n",
    "response = requests.get(url) # Send a GET request to the URL\n",
    "json_data = response.json() # Convert the response to JSON format\n",
    "\n",
    "id_list = [] # Empty list to store the app IDs\n",
    "\n",
    "if response.status_code == 200: # if the request was successful\n",
    "    for item in json_data[\"applist\"][\"apps\"]:\n",
    "        # Iterate over each app in the \"apps\" list within the \"applist\" dictionary\n",
    "        id_list.append(item[\"appid\"]) # Extract the \"appid\" and add it to the id_list\n",
    "id_list.sort() # Sort the app IDs in ascending order"
   ]
  },
  {
   "attachments": {},
   "cell_type": "markdown",
   "metadata": {},
   "source": [
    "#### App_Details"
   ]
  },
  {
   "cell_type": "code",
   "execution_count": 3,
   "metadata": {},
   "outputs": [
    {
     "name": "stdout",
     "output_type": "stream",
     "text": [
      "Error fetching data for ID: 1024100. Error message: HTTPSConnectionPool(host='store.steampowered.com', port=443): Max retries exceeded with url: /api/appdetails/?appids=1024100 (Caused by SSLError(SSLEOFError(8, 'EOF occurred in violation of protocol (_ssl.c:1129)')))\n",
      "Error fetching data for ID: 1024460. Error message: HTTPSConnectionPool(host='store.steampowered.com', port=443): Max retries exceeded with url: /api/appdetails/?appids=1024460 (Caused by NewConnectionError('<urllib3.connection.HTTPSConnection object at 0x00000253E08C1F10>: Failed to establish a new connection: [WinError 10060] A connection attempt failed because the connected party did not properly respond after a period of time, or established connection failed because connected host has failed to respond'))\n",
      "Error fetching data for ID: 1024600. Error message: HTTPSConnectionPool(host='store.steampowered.com', port=443): Max retries exceeded with url: /api/appdetails/?appids=1024600 (Caused by NewConnectionError('<urllib3.connection.HTTPSConnection object at 0x00000253E08C14C0>: Failed to establish a new connection: [WinError 10060] A connection attempt failed because the connected party did not properly respond after a period of time, or established connection failed because connected host has failed to respond'))\n",
      "Error fetching data for ID: 1024620. Error message: ('Connection aborted.', RemoteDisconnected('Remote end closed connection without response'))\n",
      "Error fetching data for ID: 1024640. Error message: HTTPSConnectionPool(host='store.steampowered.com', port=443): Max retries exceeded with url: /api/appdetails/?appids=1024640 (Caused by NewConnectionError('<urllib3.connection.HTTPSConnection object at 0x00000253EAA7CA60>: Failed to establish a new connection: [WinError 10060] A connection attempt failed because the connected party did not properly respond after a period of time, or established connection failed because connected host has failed to respond'))\n",
      "Error fetching data for ID: 1024915. Error message: HTTPSConnectionPool(host='store.steampowered.com', port=443): Max retries exceeded with url: /api/appdetails/?appids=1024915 (Caused by NewConnectionError('<urllib3.connection.HTTPSConnection object at 0x00000253EAACB280>: Failed to establish a new connection: [WinError 10060] A connection attempt failed because the connected party did not properly respond after a period of time, or established connection failed because connected host has failed to respond'))\n",
      "Error fetching data for ID: 1024920. Error message: HTTPSConnectionPool(host='store.steampowered.com', port=443): Max retries exceeded with url: /api/appdetails/?appids=1024920 (Caused by NewConnectionError('<urllib3.connection.HTTPSConnection object at 0x00000253EAACBAF0>: Failed to establish a new connection: [WinError 10060] A connection attempt failed because the connected party did not properly respond after a period of time, or established connection failed because connected host has failed to respond'))\n",
      "Error fetching data for ID: 1061400. Error message: Expecting value: line 1 column 1 (char 0)\n"
     ]
    }
   ],
   "source": [
    "app_data_list = []  # empty list for fetched data\n",
    "\n",
    "for ids in id_list:\n",
    "    try: #error handling\n",
    "        url = f\"https://store.steampowered.com/api/appdetails/?appids={ids}\"  # iterate through all IDs fetched from the code above\n",
    "        response = requests.get(url)\n",
    "        if response.status_code == 200:\n",
    "            json_data = response.json()\n",
    "            for key, value in json_data.items():\n",
    "                app_data = value.get('data')\n",
    "                if app_data is not None and app_data.get('type') == 'game':  # only want the games\n",
    "                    app_data_list.append(app_data) # add the game data to the app_data_list\n",
    "    except Exception as e: #some ids are throwing errors so lets try to isolate them\n",
    "        print(f\"Error fetching data for ID: {ids}. Error message: {e}\")\n",
    "        continue\n",
    "\n",
    "df = pd.json_normalize(app_data_list)  #Create a DataFrame from the app_data_list"
   ]
  },
  {
   "attachments": {},
   "cell_type": "markdown",
   "metadata": {},
   "source": [
    "#### lets remove most col we know we don't want"
   ]
  },
  {
   "cell_type": "code",
   "execution_count": null,
   "metadata": {},
   "outputs": [],
   "source": [
    "columns_to_exclude = ['header_image', 'capsule_image', 'capsule_imagev5', 'background', 'support_info.url', 'support_info.email', 'metacritic.url'] #columns to be excluded\n",
    "df = df.drop(columns=columns_to_exclude) "
   ]
  },
  {
   "cell_type": "code",
   "execution_count": 13,
   "metadata": {},
   "outputs": [],
   "source": [
    "df.to_excel(\"data/steam_orignal_urls_removed.xlsx\") # store the data in an excel file"
   ]
  }
 ],
 "metadata": {
  "kernelspec": {
   "display_name": "base",
   "language": "python",
   "name": "python3"
  },
  "language_info": {
   "codemirror_mode": {
    "name": "ipython",
    "version": 3
   },
   "file_extension": ".py",
   "mimetype": "text/x-python",
   "name": "python",
   "nbconvert_exporter": "python",
   "pygments_lexer": "ipython3",
   "version": "3.9.15"
  },
  "orig_nbformat": 4
 },
 "nbformat": 4,
 "nbformat_minor": 2
}
