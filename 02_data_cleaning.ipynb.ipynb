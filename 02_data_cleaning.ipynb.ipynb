{
 "cells": [
  {
   "attachments": {},
   "cell_type": "markdown",
   "metadata": {},
   "source": [
    "## Data Cleaning\n",
    "### The goal is to have a file ready to use in a BI tool and facilitate the EDA"
   ]
  },
  {
   "cell_type": "code",
   "execution_count": 66,
   "metadata": {},
   "outputs": [],
   "source": [
    "import pandas as pd"
   ]
  },
  {
   "cell_type": "code",
   "execution_count": 67,
   "metadata": {},
   "outputs": [
    {
     "data": {
      "text/html": [
       "<div>\n",
       "<style scoped>\n",
       "    .dataframe tbody tr th:only-of-type {\n",
       "        vertical-align: middle;\n",
       "    }\n",
       "\n",
       "    .dataframe tbody tr th {\n",
       "        vertical-align: top;\n",
       "    }\n",
       "\n",
       "    .dataframe thead th {\n",
       "        text-align: right;\n",
       "    }\n",
       "</style>\n",
       "<table border=\"1\" class=\"dataframe\">\n",
       "  <thead>\n",
       "    <tr style=\"text-align: right;\">\n",
       "      <th></th>\n",
       "      <th>type</th>\n",
       "      <th>name</th>\n",
       "      <th>steam_appid</th>\n",
       "      <th>required_age</th>\n",
       "      <th>is_free</th>\n",
       "      <th>detailed_description</th>\n",
       "      <th>about_the_game</th>\n",
       "      <th>short_description</th>\n",
       "      <th>supported_languages</th>\n",
       "      <th>website</th>\n",
       "      <th>...</th>\n",
       "      <th>controller_support</th>\n",
       "      <th>reviews</th>\n",
       "      <th>mac_requirements.recommended</th>\n",
       "      <th>linux_requirements.recommended</th>\n",
       "      <th>legal_notice</th>\n",
       "      <th>pc_requirements</th>\n",
       "      <th>ext_user_account_notice</th>\n",
       "      <th>drm_notice</th>\n",
       "      <th>price_overview.recurring_sub</th>\n",
       "      <th>price_overview.recurring_sub_desc</th>\n",
       "    </tr>\n",
       "  </thead>\n",
       "  <tbody>\n",
       "    <tr>\n",
       "      <th>0</th>\n",
       "      <td>game</td>\n",
       "      <td>Counter-Strike</td>\n",
       "      <td>10</td>\n",
       "      <td>0</td>\n",
       "      <td>False</td>\n",
       "      <td>Play the world's number 1 online action game. ...</td>\n",
       "      <td>Play the world's number 1 online action game. ...</td>\n",
       "      <td>Play the world's number 1 online action game. ...</td>\n",
       "      <td>English&lt;strong&gt;*&lt;/strong&gt;, French&lt;strong&gt;*&lt;/st...</td>\n",
       "      <td>NaN</td>\n",
       "      <td>...</td>\n",
       "      <td>NaN</td>\n",
       "      <td>NaN</td>\n",
       "      <td>NaN</td>\n",
       "      <td>NaN</td>\n",
       "      <td>NaN</td>\n",
       "      <td>NaN</td>\n",
       "      <td>NaN</td>\n",
       "      <td>NaN</td>\n",
       "      <td>NaN</td>\n",
       "      <td>NaN</td>\n",
       "    </tr>\n",
       "    <tr>\n",
       "      <th>1</th>\n",
       "      <td>game</td>\n",
       "      <td>Counter-Strike</td>\n",
       "      <td>10</td>\n",
       "      <td>0</td>\n",
       "      <td>False</td>\n",
       "      <td>Play the world's number 1 online action game. ...</td>\n",
       "      <td>Play the world's number 1 online action game. ...</td>\n",
       "      <td>Play the world's number 1 online action game. ...</td>\n",
       "      <td>English&lt;strong&gt;*&lt;/strong&gt;, French&lt;strong&gt;*&lt;/st...</td>\n",
       "      <td>NaN</td>\n",
       "      <td>...</td>\n",
       "      <td>NaN</td>\n",
       "      <td>NaN</td>\n",
       "      <td>NaN</td>\n",
       "      <td>NaN</td>\n",
       "      <td>NaN</td>\n",
       "      <td>NaN</td>\n",
       "      <td>NaN</td>\n",
       "      <td>NaN</td>\n",
       "      <td>NaN</td>\n",
       "      <td>NaN</td>\n",
       "    </tr>\n",
       "    <tr>\n",
       "      <th>2</th>\n",
       "      <td>game</td>\n",
       "      <td>Team Fortress Classic</td>\n",
       "      <td>20</td>\n",
       "      <td>0</td>\n",
       "      <td>False</td>\n",
       "      <td>One of the most popular online action games of...</td>\n",
       "      <td>One of the most popular online action games of...</td>\n",
       "      <td>One of the most popular online action games of...</td>\n",
       "      <td>English, French, German, Italian, Spanish - Sp...</td>\n",
       "      <td>NaN</td>\n",
       "      <td>...</td>\n",
       "      <td>NaN</td>\n",
       "      <td>NaN</td>\n",
       "      <td>NaN</td>\n",
       "      <td>NaN</td>\n",
       "      <td>NaN</td>\n",
       "      <td>NaN</td>\n",
       "      <td>NaN</td>\n",
       "      <td>NaN</td>\n",
       "      <td>NaN</td>\n",
       "      <td>NaN</td>\n",
       "    </tr>\n",
       "    <tr>\n",
       "      <th>3</th>\n",
       "      <td>game</td>\n",
       "      <td>Team Fortress Classic</td>\n",
       "      <td>20</td>\n",
       "      <td>0</td>\n",
       "      <td>False</td>\n",
       "      <td>One of the most popular online action games of...</td>\n",
       "      <td>One of the most popular online action games of...</td>\n",
       "      <td>One of the most popular online action games of...</td>\n",
       "      <td>English, French, German, Italian, Spanish - Sp...</td>\n",
       "      <td>NaN</td>\n",
       "      <td>...</td>\n",
       "      <td>NaN</td>\n",
       "      <td>NaN</td>\n",
       "      <td>NaN</td>\n",
       "      <td>NaN</td>\n",
       "      <td>NaN</td>\n",
       "      <td>NaN</td>\n",
       "      <td>NaN</td>\n",
       "      <td>NaN</td>\n",
       "      <td>NaN</td>\n",
       "      <td>NaN</td>\n",
       "    </tr>\n",
       "    <tr>\n",
       "      <th>4</th>\n",
       "      <td>game</td>\n",
       "      <td>Day of Defeat</td>\n",
       "      <td>30</td>\n",
       "      <td>0</td>\n",
       "      <td>False</td>\n",
       "      <td>Enlist in an intense brand of Axis vs. Allied ...</td>\n",
       "      <td>Enlist in an intense brand of Axis vs. Allied ...</td>\n",
       "      <td>Enlist in an intense brand of Axis vs. Allied ...</td>\n",
       "      <td>English, French, German, Italian, Spanish - Spain</td>\n",
       "      <td>http://www.dayofdefeat.com/</td>\n",
       "      <td>...</td>\n",
       "      <td>NaN</td>\n",
       "      <td>NaN</td>\n",
       "      <td>NaN</td>\n",
       "      <td>NaN</td>\n",
       "      <td>NaN</td>\n",
       "      <td>NaN</td>\n",
       "      <td>NaN</td>\n",
       "      <td>NaN</td>\n",
       "      <td>NaN</td>\n",
       "      <td>NaN</td>\n",
       "    </tr>\n",
       "  </tbody>\n",
       "</table>\n",
       "<p>5 rows × 54 columns</p>\n",
       "</div>"
      ],
      "text/plain": [
       "   type                   name  steam_appid required_age  is_free  \\\n",
       "0  game         Counter-Strike           10            0    False   \n",
       "1  game         Counter-Strike           10            0    False   \n",
       "2  game  Team Fortress Classic           20            0    False   \n",
       "3  game  Team Fortress Classic           20            0    False   \n",
       "4  game          Day of Defeat           30            0    False   \n",
       "\n",
       "                                detailed_description  \\\n",
       "0  Play the world's number 1 online action game. ...   \n",
       "1  Play the world's number 1 online action game. ...   \n",
       "2  One of the most popular online action games of...   \n",
       "3  One of the most popular online action games of...   \n",
       "4  Enlist in an intense brand of Axis vs. Allied ...   \n",
       "\n",
       "                                      about_the_game  \\\n",
       "0  Play the world's number 1 online action game. ...   \n",
       "1  Play the world's number 1 online action game. ...   \n",
       "2  One of the most popular online action games of...   \n",
       "3  One of the most popular online action games of...   \n",
       "4  Enlist in an intense brand of Axis vs. Allied ...   \n",
       "\n",
       "                                   short_description  \\\n",
       "0  Play the world's number 1 online action game. ...   \n",
       "1  Play the world's number 1 online action game. ...   \n",
       "2  One of the most popular online action games of...   \n",
       "3  One of the most popular online action games of...   \n",
       "4  Enlist in an intense brand of Axis vs. Allied ...   \n",
       "\n",
       "                                 supported_languages  \\\n",
       "0  English<strong>*</strong>, French<strong>*</st...   \n",
       "1  English<strong>*</strong>, French<strong>*</st...   \n",
       "2  English, French, German, Italian, Spanish - Sp...   \n",
       "3  English, French, German, Italian, Spanish - Sp...   \n",
       "4  English, French, German, Italian, Spanish - Spain   \n",
       "\n",
       "                       website  ... controller_support reviews  \\\n",
       "0                          NaN  ...                NaN     NaN   \n",
       "1                          NaN  ...                NaN     NaN   \n",
       "2                          NaN  ...                NaN     NaN   \n",
       "3                          NaN  ...                NaN     NaN   \n",
       "4  http://www.dayofdefeat.com/  ...                NaN     NaN   \n",
       "\n",
       "  mac_requirements.recommended linux_requirements.recommended legal_notice  \\\n",
       "0                          NaN                            NaN          NaN   \n",
       "1                          NaN                            NaN          NaN   \n",
       "2                          NaN                            NaN          NaN   \n",
       "3                          NaN                            NaN          NaN   \n",
       "4                          NaN                            NaN          NaN   \n",
       "\n",
       "  pc_requirements ext_user_account_notice drm_notice  \\\n",
       "0             NaN                     NaN        NaN   \n",
       "1             NaN                     NaN        NaN   \n",
       "2             NaN                     NaN        NaN   \n",
       "3             NaN                     NaN        NaN   \n",
       "4             NaN                     NaN        NaN   \n",
       "\n",
       "  price_overview.recurring_sub price_overview.recurring_sub_desc  \n",
       "0                          NaN                               NaN  \n",
       "1                          NaN                               NaN  \n",
       "2                          NaN                               NaN  \n",
       "3                          NaN                               NaN  \n",
       "4                          NaN                               NaN  \n",
       "\n",
       "[5 rows x 54 columns]"
      ]
     },
     "execution_count": 67,
     "metadata": {},
     "output_type": "execute_result"
    }
   ],
   "source": [
    "df_steam = pd.read_excel('Data/steam_orignal_1.xlsx', index_col=0)\n",
    "df_steam.head()"
   ]
  },
  {
   "cell_type": "code",
   "execution_count": 68,
   "metadata": {},
   "outputs": [],
   "source": [
    "#just by looking at the firts 5 rows aboove we can see duplicates so let's taje care of that\n",
    "df_steam.drop_duplicates(inplace=True)"
   ]
  },
  {
   "cell_type": "code",
   "execution_count": 69,
   "metadata": {},
   "outputs": [
    {
     "data": {
      "text/plain": [
       "(13220, 54)"
      ]
     },
     "execution_count": 69,
     "metadata": {},
     "output_type": "execute_result"
    }
   ],
   "source": [
    "df_steam.shape"
   ]
  },
  {
   "cell_type": "code",
   "execution_count": 70,
   "metadata": {},
   "outputs": [
    {
     "data": {
      "text/plain": [
       "array(['game'], dtype=object)"
      ]
     },
     "execution_count": 70,
     "metadata": {},
     "output_type": "execute_result"
    }
   ],
   "source": [
    "#before we start, let's start by checking if we only have \"games\"\n",
    "df_steam['type'].unique()"
   ]
  },
  {
   "cell_type": "code",
   "execution_count": 71,
   "metadata": {},
   "outputs": [
    {
     "name": "stdout",
     "output_type": "stream",
     "text": [
      "<class 'pandas.core.frame.DataFrame'>\n",
      "Int64Index: 13220 entries, 0 to 16582\n",
      "Data columns (total 54 columns):\n",
      " #   Column                             Non-Null Count  Dtype  \n",
      "---  ------                             --------------  -----  \n",
      " 0   type                               13220 non-null  object \n",
      " 1   name                               13219 non-null  object \n",
      " 2   steam_appid                        13220 non-null  int64  \n",
      " 3   required_age                       13220 non-null  object \n",
      " 4   is_free                            13220 non-null  bool   \n",
      " 5   detailed_description               12882 non-null  object \n",
      " 6   about_the_game                     12882 non-null  object \n",
      " 7   short_description                  12883 non-null  object \n",
      " 8   supported_languages                12894 non-null  object \n",
      " 9   website                            6598 non-null   object \n",
      " 10  developers                         12876 non-null  object \n",
      " 11  publishers                         13220 non-null  object \n",
      " 12  packages                           9085 non-null   object \n",
      " 13  package_groups                     13220 non-null  object \n",
      " 14  categories                         12769 non-null  object \n",
      " 15  genres                             12881 non-null  object \n",
      " 16  screenshots                        13029 non-null  object \n",
      " 17  background_raw                     13046 non-null  object \n",
      " 18  pc_requirements.minimum            12949 non-null  object \n",
      " 19  mac_requirements.minimum           5900 non-null   object \n",
      " 20  linux_requirements.minimum         5066 non-null   object \n",
      " 21  price_overview.currency            8972 non-null   object \n",
      " 22  price_overview.initial             8972 non-null   float64\n",
      " 23  price_overview.final               8972 non-null   float64\n",
      " 24  price_overview.discount_percent    8972 non-null   float64\n",
      " 25  price_overview.initial_formatted   473 non-null    object \n",
      " 26  price_overview.final_formatted     8972 non-null   object \n",
      " 27  platforms.windows                  13220 non-null  bool   \n",
      " 28  platforms.mac                      13220 non-null  bool   \n",
      " 29  platforms.linux                    13220 non-null  bool   \n",
      " 30  metacritic.score                   674 non-null    float64\n",
      " 31  recommendations.total              2314 non-null   float64\n",
      " 32  release_date.coming_soon           13220 non-null  bool   \n",
      " 33  release_date.date                  13148 non-null  object \n",
      " 34  content_descriptors.ids            13220 non-null  object \n",
      " 35  content_descriptors.notes          1942 non-null   object \n",
      " 36  dlc                                1843 non-null   object \n",
      " 37  mac_requirements                   7318 non-null   object \n",
      " 38  linux_requirements                 8154 non-null   object \n",
      " 39  demos                              1317 non-null   object \n",
      " 40  movies                             11887 non-null  object \n",
      " 41  achievements.total                 5781 non-null   float64\n",
      " 42  achievements.highlighted           5661 non-null   object \n",
      " 43  pc_requirements.recommended        7935 non-null   object \n",
      " 44  controller_support                 3016 non-null   object \n",
      " 45  reviews                            1683 non-null   object \n",
      " 46  mac_requirements.recommended       4352 non-null   object \n",
      " 47  linux_requirements.recommended     4082 non-null   object \n",
      " 48  legal_notice                       3703 non-null   object \n",
      " 49  pc_requirements                    269 non-null    object \n",
      " 50  ext_user_account_notice            214 non-null    object \n",
      " 51  drm_notice                         59 non-null     object \n",
      " 52  price_overview.recurring_sub       13 non-null     float64\n",
      " 53  price_overview.recurring_sub_desc  13 non-null     object \n",
      "dtypes: bool(5), float64(7), int64(1), object(41)\n",
      "memory usage: 5.1+ MB\n"
     ]
    }
   ],
   "source": [
    "#What are we dealing with\n",
    "df_steam.info()"
   ]
  },
  {
   "cell_type": "code",
   "execution_count": 72,
   "metadata": {},
   "outputs": [
    {
     "name": "stdout",
     "output_type": "stream",
     "text": [
      "Index(['type', 'name', 'steam_appid', 'required_age', 'is_free',\n",
      "       'detailed_description', 'about_the_game', 'short_description',\n",
      "       'supported_languages', 'website', 'developers', 'publishers',\n",
      "       'packages', 'package_groups', 'categories', 'genres', 'screenshots',\n",
      "       'background_raw', 'pc_requirements.minimum', 'mac_requirements.minimum',\n",
      "       'linux_requirements.minimum', 'price_overview.currency',\n",
      "       'price_overview.initial', 'price_overview.final',\n",
      "       'price_overview.discount_percent', 'price_overview.initial_formatted',\n",
      "       'price_overview.final_formatted', 'platforms.windows', 'platforms.mac',\n",
      "       'platforms.linux', 'metacritic.score', 'recommendations.total',\n",
      "       'release_date.coming_soon', 'release_date.date',\n",
      "       'content_descriptors.ids', 'content_descriptors.notes', 'dlc',\n",
      "       'mac_requirements', 'linux_requirements', 'demos', 'movies',\n",
      "       'achievements.total', 'achievements.highlighted',\n",
      "       'pc_requirements.recommended', 'controller_support', 'reviews',\n",
      "       'mac_requirements.recommended', 'linux_requirements.recommended',\n",
      "       'legal_notice', 'pc_requirements', 'ext_user_account_notice',\n",
      "       'drm_notice', 'price_overview.recurring_sub',\n",
      "       'price_overview.recurring_sub_desc'],\n",
      "      dtype='object')\n"
     ]
    }
   ],
   "source": [
    "#let's see what columns we have, probably we can get rid of some before doing some more complex stuff\n",
    "print(df_steam.columns)"
   ]
  },
  {
   "cell_type": "code",
   "execution_count": 73,
   "metadata": {},
   "outputs": [
    {
     "data": {
      "text/plain": [
       "25"
      ]
     },
     "execution_count": 73,
     "metadata": {},
     "output_type": "execute_result"
    }
   ],
   "source": [
    "#removeing columns, for the prices will keep only the currenty discounts and the original price.\n",
    "columns_to_exclude = ['type', 'detailed_description', 'short_description','supported_languages', 'website','packages', 'package_groups'\n",
    "                        ,'screenshots','background_raw', 'pc_requirements.minimum', 'mac_requirements.minimum',\n",
    "                        'linux_requirements.minimum','price_overview.initial','price_overview.final', \n",
    "                        'release_date.coming_soon', 'content_descriptors.ids', 'mac_requirements','linux_requirements', 'demos', 'movies', \n",
    "                        'achievements.highlighted', 'pc_requirements.recommended', 'reviews', 'mac_requirements.recommended', 'linux_requirements.recommended','legal_notice',\n",
    "                        'pc_requirements', 'ext_user_account_notice', 'price_overview.recurring_sub']\n",
    "df_steam = df_steam.drop(columns=columns_to_exclude)\n",
    "\n",
    "len(df_steam.columns)"
   ]
  },
  {
   "cell_type": "code",
   "execution_count": 74,
   "metadata": {},
   "outputs": [
    {
     "data": {
      "text/plain": [
       "price_overview.recurring_sub_desc    99.901664\n",
       "drm_notice                           99.553707\n",
       "price_overview.initial_formatted     96.422088\n",
       "metacritic.score                     94.901664\n",
       "dlc                                  86.059002\n",
       "content_descriptors.notes            85.310136\n",
       "recommendations.total                82.496218\n",
       "controller_support                   77.186082\n",
       "achievements.total                   56.270802\n",
       "price_overview.discount_percent      32.133132\n",
       "price_overview.final_formatted       32.133132\n",
       "price_overview.currency              32.133132\n",
       "categories                            3.411498\n",
       "developers                            2.602118\n",
       "genres                                2.564297\n",
       "about_the_game                        2.556732\n",
       "release_date.date                     0.544629\n",
       "name                                  0.007564\n",
       "steam_appid                           0.000000\n",
       "platforms.windows                     0.000000\n",
       "platforms.mac                         0.000000\n",
       "platforms.linux                       0.000000\n",
       "publishers                            0.000000\n",
       "is_free                               0.000000\n",
       "required_age                          0.000000\n",
       "dtype: float64"
      ]
     },
     "execution_count": 74,
     "metadata": {},
     "output_type": "execute_result"
    }
   ],
   "source": [
    "# what's the percentage of missing values\n",
    "missing_values = df_steam.isnull().sum() / len(df_steam) * 100\n",
    "missing_values.sort_values(ascending=False)"
   ]
  },
  {
   "cell_type": "code",
   "execution_count": 75,
   "metadata": {},
   "outputs": [],
   "source": [
    "# will remove data with no name and released date\n",
    "df_steam_dropped = df_steam.dropna(subset=[\"name\", \"release_date.date\"])"
   ]
  },
  {
   "cell_type": "code",
   "execution_count": null,
   "metadata": {},
   "outputs": [],
   "source": [
    "#remove the [\"\"] and ['']\n",
    "df_steam_dropped['developers'] = df_steam_dropped['developers'].str.replace(r\"[\\[\\]\\\"]|'\", \"\")\n",
    "df_steam_dropped['publishers'] = df_steam_dropped['publishers'].str.replace(r\"[\\[\\]\\\"]|'\", \"\")\n"
   ]
  },
  {
   "cell_type": "code",
   "execution_count": null,
   "metadata": {},
   "outputs": [],
   "source": [
    "# Columns with True or False values will be replaced to 1 and 0\n",
    "columns_to_change = ['is_free', 'platforms.linux', 'platforms.mac', 'platforms.windows']\n",
    "\n",
    "df_steam_dropped[columns_to_change] = df_steam_dropped[columns_to_change].replace(['True', 'False'], [1, 0])\n",
    "df_steam_dropped[columns_to_change] = df_steam_dropped[columns_to_change].astype(int)"
   ]
  },
  {
   "cell_type": "code",
   "execution_count": null,
   "metadata": {},
   "outputs": [],
   "source": [
    "df_steam_dropped['controller_support'] = df_steam_dropped['controller_support'].replace(['full'], 1)"
   ]
  },
  {
   "cell_type": "code",
   "execution_count": null,
   "metadata": {},
   "outputs": [],
   "source": [
    "#Will change the rows with DRM to 1 and the rest to 0\n",
    "df_steam_dropped['drm_notice'] = df_steam_dropped['drm_notice'].notnull().astype(int)"
   ]
  },
  {
   "cell_type": "code",
   "execution_count": 80,
   "metadata": {},
   "outputs": [],
   "source": [
    "# Renaming the columns\n",
    "new_names = {\n",
    "    'steam_appid': 'Steam_AppID',\n",
    "    'required_age': 'Minimum_age',\n",
    "    'is_free': 'Free',\n",
    "    'about_the_game': 'About_the_Game',\n",
    "    'developers': 'Developers',\n",
    "    'publishers': 'Publishers',\n",
    "    'name': 'Game',\n",
    "    'controller_support': 'Full_Controller_Support',\n",
    "    'drm_notice': 'DRM_Protection',\n",
    "    'achievements.total': 'Total_Achievements',\n",
    "    'dlc': 'Count_DLC',\n",
    "    'release_date.date': 'Release_Date',\n",
    "    'recommendations.total': 'Recommendations',\n",
    "    'metacritic.score': 'Metacritic_Score',\n",
    "    'platforms.windows': 'Windows_Support',\n",
    "    'platforms.mac': 'Mac_Support',\n",
    "    'platforms.linux': 'Linux_Support'\n",
    "}\n",
    "\n",
    "df_steam_dropped = df_steam_dropped.rename(columns=new_names)"
   ]
  },
  {
   "attachments": {},
   "cell_type": "markdown",
   "metadata": {},
   "source": [
    "### The painstacking process of creating a new column with all prices converted to Euros"
   ]
  },
  {
   "cell_type": "code",
   "execution_count": null,
   "metadata": {},
   "outputs": [],
   "source": [
    "#Lets start to remove the unwated strings, to convert this col to a float\n",
    "df_steam_dropped['price_overview.final_formatted'] = df_steam_dropped['price_overview.final_formatted'].str.replace('£', '').str.replace('€', '').str.replace('$', '').str.replace('S', '').str.replace('¥', '').str.replace('₩', '').str.replace(',--', '').str.replace('zł', '').str.replace('HK', '').str.replace('R', '').str.replace('.', ',')"
   ]
  },
  {
   "cell_type": "code",
   "execution_count": 82,
   "metadata": {},
   "outputs": [],
   "source": [
    "#All commas to dots\n",
    "df_steam_dropped['price_overview.final_formatted'] = df_steam_dropped['price_overview.final_formatted'].str.replace(',', '.')"
   ]
  },
  {
   "cell_type": "code",
   "execution_count": 83,
   "metadata": {},
   "outputs": [],
   "source": [
    "# converting the col to float\n",
    "df_steam_dropped['price_overview.final_formatted'] = df_steam_dropped['price_overview.final_formatted'].astype(float)"
   ]
  },
  {
   "cell_type": "code",
   "execution_count": 84,
   "metadata": {},
   "outputs": [],
   "source": [
    "# Define the conversion rates (on 17/06/2023) from each currency to euros\n",
    "conversion_rates = {\n",
    "    'EUR': 1.0,   # euros to euros (1:1)\n",
    "    'GBP': 1.17,  # pounds to euros\n",
    "    'USD': 0.89,  # dollars to euros\n",
    "    'SGD': 0.68,  # singapure dollars to euros\n",
    "    'CNY': 0.13,  # Chinese yuan renminbi to euros\n",
    "    'KRW': 0.00071, # South Korean won to euros\n",
    "    'HKD': 0.12,   # Hong Kong Dollar to euros\n",
    "    'BRL': 0.19, # Brazilian Real to euros\n",
    "    'PLN': 0.22, # Polish Zloty to euros\n",
    "}\n",
    "\n",
    "# Define function to convert prices\n",
    "def convert_to_euros(price, currency):\n",
    "    conversion_rate = conversion_rates.get(currency, 1.0)\n",
    "    return float(price) * conversion_rate\n",
    "\n",
    "# Create a new column 'Price_In_Euros' with the prices converted to euros based on the currency column\n",
    "df_steam_dropped['Price_In_Euros'] = df_steam_dropped.apply(lambda row: convert_to_euros(row['price_overview.final_formatted'], row['price_overview.currency']), axis=1)"
   ]
  },
  {
   "cell_type": "code",
   "execution_count": 85,
   "metadata": {},
   "outputs": [],
   "source": [
    "#Creating a new column for the orignal price\n",
    "df_steam_dropped['Original_Price'] = df_steam_dropped['Price_In_Euros'] / (1 - (df_steam_dropped['price_overview.discount_percent'] / 100))"
   ]
  },
  {
   "cell_type": "code",
   "execution_count": 86,
   "metadata": {},
   "outputs": [],
   "source": [
    "# rouding this to 2 decimals in place\n",
    "df_steam_dropped['Price_In_Euros'] = df_steam_dropped['Price_In_Euros'].round(2)\n",
    "df_steam_dropped['Original_Price'] = df_steam_dropped['Original_Price'].round(2)"
   ]
  },
  {
   "cell_type": "code",
   "execution_count": 87,
   "metadata": {},
   "outputs": [
    {
     "data": {
      "text/plain": [
       "25"
      ]
     },
     "execution_count": 87,
     "metadata": {},
     "output_type": "execute_result"
    }
   ],
   "source": [
    "# since theres no need for these columns anymore, let's remove them\n",
    "price_columns_to_exclude = ['price_overview.currency', 'price_overview.discount_percent', 'price_overview.initial_formatted', 'price_overview.final_formatted']\n",
    "df_steam_dropped = df_steam_dropped.drop(columns=price_columns_to_exclude)\n",
    "\n",
    "len(df_steam.columns)"
   ]
  },
  {
   "attachments": {},
   "cell_type": "markdown",
   "metadata": {},
   "source": [
    "#### this did not take more than a day at all..."
   ]
  },
  {
   "cell_type": "code",
   "execution_count": 88,
   "metadata": {},
   "outputs": [],
   "source": [
    "#the Count_DLC column currently contains the IDs of the DLCs, will change them to the actual count\n",
    "df_steam_dropped['Count_DLC'] = df_steam_dropped['Count_DLC'].str.count('\\d+')"
   ]
  },
  {
   "cell_type": "code",
   "execution_count": 89,
   "metadata": {},
   "outputs": [],
   "source": [
    "#fill blank values with 0 for the selected columns\n",
    "columns_to_fill_0 = ['Count_DLC', 'Total_Achievements', 'Full_Controller_Support', 'price_overview.recurring_sub_desc', 'Price_In_Euros', 'Original_Price', 'Recommendations']\n",
    "df_steam_dropped[columns_to_fill_0] = df_steam_dropped[columns_to_fill_0].fillna(0)"
   ]
  },
  {
   "attachments": {},
   "cell_type": "markdown",
   "metadata": {},
   "source": [
    "#### let's change the data type now"
   ]
  },
  {
   "cell_type": "code",
   "execution_count": 90,
   "metadata": {},
   "outputs": [
    {
     "name": "stdout",
     "output_type": "stream",
     "text": [
      "<class 'pandas.core.frame.DataFrame'>\n",
      "Int64Index: 13147 entries, 0 to 16582\n",
      "Data columns (total 23 columns):\n",
      " #   Column                             Non-Null Count  Dtype  \n",
      "---  ------                             --------------  -----  \n",
      " 0   Game                               13147 non-null  object \n",
      " 1   Steam_AppID                        13147 non-null  int64  \n",
      " 2   Minimum_age                        13147 non-null  object \n",
      " 3   Free                               13147 non-null  int32  \n",
      " 4   About_the_Game                     12815 non-null  object \n",
      " 5   Developers                         12804 non-null  object \n",
      " 6   Publishers                         13147 non-null  object \n",
      " 7   categories                         12700 non-null  object \n",
      " 8   genres                             12808 non-null  object \n",
      " 9   Windows_Support                    13147 non-null  int32  \n",
      " 10  Mac_Support                        13147 non-null  int32  \n",
      " 11  Linux_Support                      13147 non-null  int32  \n",
      " 12  Metacritic_Score                   672 non-null    float64\n",
      " 13  Recommendations                    13147 non-null  float64\n",
      " 14  Release_Date                       13147 non-null  object \n",
      " 15  content_descriptors.notes          1936 non-null   object \n",
      " 16  Count_DLC                          13147 non-null  float64\n",
      " 17  Total_Achievements                 13147 non-null  float64\n",
      " 18  Full_Controller_Support            13147 non-null  float64\n",
      " 19  DRM_Protection                     13147 non-null  int32  \n",
      " 20  price_overview.recurring_sub_desc  13147 non-null  object \n",
      " 21  Price_In_Euros                     13147 non-null  float64\n",
      " 22  Original_Price                     13147 non-null  float64\n",
      "dtypes: float64(7), int32(5), int64(1), object(10)\n",
      "memory usage: 2.2+ MB\n"
     ]
    }
   ],
   "source": [
    "df_steam_dropped.info()"
   ]
  },
  {
   "cell_type": "code",
   "execution_count": null,
   "metadata": {},
   "outputs": [],
   "source": [
    "#let's remove that \"+\" from the age col \n",
    "df_steam_dropped['Minimum_age'] = df_steam_dropped['Minimum_age'].str.replace('+', '')"
   ]
  },
  {
   "cell_type": "code",
   "execution_count": 93,
   "metadata": {},
   "outputs": [],
   "source": [
    "# change relevant columns to int64\n",
    "df_steam_dropped['Minimum_age'] = df_steam_dropped['Minimum_age'].fillna(0).astype('int64')\n",
    "df_steam_dropped['Recommendations'] = df_steam_dropped['Recommendations'].fillna(0).astype('int64')\n",
    "df_steam_dropped['Count_DLC'] = df_steam_dropped['Count_DLC'].fillna(0).astype('int64')\n",
    "df_steam_dropped['Total_Achievements'] = df_steam_dropped['Total_Achievements'].fillna(0).astype('int64')"
   ]
  },
  {
   "cell_type": "code",
   "execution_count": 94,
   "metadata": {},
   "outputs": [
    {
     "name": "stdout",
     "output_type": "stream",
     "text": [
      "<class 'pandas.core.frame.DataFrame'>\n",
      "Int64Index: 13147 entries, 0 to 16582\n",
      "Data columns (total 23 columns):\n",
      " #   Column                             Non-Null Count  Dtype  \n",
      "---  ------                             --------------  -----  \n",
      " 0   Game                               13147 non-null  object \n",
      " 1   Steam_AppID                        13147 non-null  int64  \n",
      " 2   Minimum_age                        13147 non-null  int64  \n",
      " 3   Free                               13147 non-null  int32  \n",
      " 4   About_the_Game                     12815 non-null  object \n",
      " 5   Developers                         12804 non-null  object \n",
      " 6   Publishers                         13147 non-null  object \n",
      " 7   categories                         12700 non-null  object \n",
      " 8   genres                             12808 non-null  object \n",
      " 9   Windows_Support                    13147 non-null  int32  \n",
      " 10  Mac_Support                        13147 non-null  int32  \n",
      " 11  Linux_Support                      13147 non-null  int32  \n",
      " 12  Metacritic_Score                   672 non-null    float64\n",
      " 13  Recommendations                    13147 non-null  int64  \n",
      " 14  Release_Date                       13147 non-null  object \n",
      " 15  content_descriptors.notes          1936 non-null   object \n",
      " 16  Count_DLC                          13147 non-null  int64  \n",
      " 17  Total_Achievements                 13147 non-null  int64  \n",
      " 18  Full_Controller_Support            13147 non-null  float64\n",
      " 19  DRM_Protection                     13147 non-null  int32  \n",
      " 20  price_overview.recurring_sub_desc  13147 non-null  object \n",
      " 21  Price_In_Euros                     13147 non-null  float64\n",
      " 22  Original_Price                     13147 non-null  float64\n",
      "dtypes: float64(4), int32(5), int64(5), object(9)\n",
      "memory usage: 2.2+ MB\n"
     ]
    }
   ],
   "source": [
    "df_steam_dropped.info()"
   ]
  },
  {
   "attachments": {},
   "cell_type": "markdown",
   "metadata": {},
   "source": [
    "#### looking at the dates in excel, theres still games that have not been released yet, so those will be removed. This will aslo make life easier to convert the data type to date"
   ]
  },
  {
   "cell_type": "code",
   "execution_count": 95,
   "metadata": {},
   "outputs": [],
   "source": [
    "rows_to_remove = ['To be announced', 'Q3 2023', 'Q3 2025', 'Q4 2023', 'October 2023', 'Q1 2024', 'Q2 2023', 'Q2 2024', 'Q1 2027', 'Q4 2024', 'Q3 2024', 'Q1 2025', 'Q4 2025', 'Coming soon']\n",
    "\n",
    "df_steam_dropped = df_steam_dropped[~df_steam_dropped['Release_Date'].isin(rows_to_remove)]"
   ]
  },
  {
   "cell_type": "code",
   "execution_count": 96,
   "metadata": {},
   "outputs": [],
   "source": [
    "# changing Release_Date to a date format\n",
    "df_steam_dropped['Release_Date'] = pd.to_datetime(df_steam_dropped['Release_Date'], errors='coerce').dt.date\n"
   ]
  },
  {
   "attachments": {},
   "cell_type": "markdown",
   "metadata": {},
   "source": [
    "## The rest of the cleaning will be done in excel"
   ]
  },
  {
   "cell_type": "code",
   "execution_count": 97,
   "metadata": {},
   "outputs": [],
   "source": [
    "df_steam_dropped.to_excel('data/steam_data_cleaned_almost.xlsx')"
   ]
  }
 ],
 "metadata": {
  "kernelspec": {
   "display_name": "base",
   "language": "python",
   "name": "python3"
  },
  "language_info": {
   "codemirror_mode": {
    "name": "ipython",
    "version": 3
   },
   "file_extension": ".py",
   "mimetype": "text/x-python",
   "name": "python",
   "nbconvert_exporter": "python",
   "pygments_lexer": "ipython3",
   "version": "3.9.15"
  },
  "orig_nbformat": 4
 },
 "nbformat": 4,
 "nbformat_minor": 2
}
