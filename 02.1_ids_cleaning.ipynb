{
 "cells": [
  {
   "attachments": {},
   "cell_type": "markdown",
   "metadata": {},
   "source": [
    "### After all the IDs were extract in Excel for the Categories and Genres Columns, now will replace by the actual description"
   ]
  },
  {
   "cell_type": "code",
   "execution_count": 1,
   "metadata": {},
   "outputs": [],
   "source": [
    "import pandas as pd\n",
    "import numpy as np"
   ]
  },
  {
   "cell_type": "code",
   "execution_count": 2,
   "metadata": {},
   "outputs": [],
   "source": [
    "df = pd.read_excel('data/steam_data_genres_categoroes_id_extracted.xlsb')"
   ]
  },
  {
   "cell_type": "code",
   "execution_count": 3,
   "metadata": {},
   "outputs": [
    {
     "name": "stdout",
     "output_type": "stream",
     "text": [
      "<class 'pandas.core.frame.DataFrame'>\n",
      "RangeIndex: 11278 entries, 0 to 11277\n",
      "Data columns (total 23 columns):\n",
      " #   Column                             Non-Null Count  Dtype  \n",
      "---  ------                             --------------  -----  \n",
      " 0   Game                               11278 non-null  object \n",
      " 1   Steam_AppID                        11278 non-null  int64  \n",
      " 2   Minimum_age                        11278 non-null  int64  \n",
      " 3   Free                               11278 non-null  int64  \n",
      " 4   About_the_Game                     10950 non-null  object \n",
      " 5   Developers                         10937 non-null  object \n",
      " 6   Publishers                         10896 non-null  object \n",
      " 7   categories                         10841 non-null  object \n",
      " 8   genres                             10920 non-null  object \n",
      " 9   Windows_Support                    11278 non-null  int64  \n",
      " 10  Mac_Support                        11278 non-null  int64  \n",
      " 11  Linux_Support                      11278 non-null  int64  \n",
      " 12  Metacritic_Score                   670 non-null    float64\n",
      " 13  Recommendations                    11278 non-null  int64  \n",
      " 14  Release_Date                       11278 non-null  int64  \n",
      " 15  content_descriptors.notes          1588 non-null   object \n",
      " 16  Count_DLC                          11278 non-null  int64  \n",
      " 17  Total_Achievements                 11278 non-null  int64  \n",
      " 18  Full_Controller_Support            11278 non-null  int64  \n",
      " 19  DRM_Protection                     11278 non-null  int64  \n",
      " 20  price_overview.recurring_sub_desc  11278 non-null  object \n",
      " 21  Price_In_Euros                     11278 non-null  float64\n",
      " 22  Original_Price                     11278 non-null  float64\n",
      "dtypes: float64(3), int64(12), object(8)\n",
      "memory usage: 2.0+ MB\n"
     ]
    }
   ],
   "source": [
    "df.info()"
   ]
  },
  {
   "attachments": {},
   "cell_type": "markdown",
   "metadata": {},
   "source": [
    "#### Map for the Categories"
   ]
  },
  {
   "cell_type": "code",
   "execution_count": 4,
   "metadata": {},
   "outputs": [],
   "source": [
    "# Create a dictionary mapping IDs to their corresponding descriptions\n",
    "ids_categories = {\n",
    "    1: 'Multi-player',\n",
    "    2: 'Single-player',\n",
    "    8: 'Valve Anti-Cheat enabled',\n",
    "    9: 'Co-op',\n",
    "    13: 'Captions available',\n",
    "    14: 'Commentary available',\n",
    "    15: 'Stats',\n",
    "    16: 'Includes Source SDK',\n",
    "    17: 'Includes level editor',\n",
    "    18: 'Partial Controller Support',\n",
    "    20: 'MMO',\n",
    "    22: 'Steam Achievements',\n",
    "    23: 'Steam Cloud',\n",
    "    24: 'Shared/Split Screen',\n",
    "    25: 'Steam Leaderboards',\n",
    "    27: 'Cross-Platform Multiplayer',\n",
    "    28: 'Full controller support',\n",
    "    29: 'Steam Trading Cards',\n",
    "    30: 'Steam Workshop',\n",
    "    31: 'VR Support',\n",
    "    32: 'Steam Turn Notifications',\n",
    "    35: 'In-App Purchases',\n",
    "    36: 'Online PvP',\n",
    "    37: 'Shared/Split Screen PvP',\n",
    "    38: 'Online Co-op',\n",
    "    39: 'Shared/Split Screen Co-op',\n",
    "    40: 'SteamVR Collectibles',\n",
    "    41: 'Remote Play on Phone',\n",
    "    42: 'Remote Play on Tablet',\n",
    "    43: 'Remote Play on TV',\n",
    "    44: 'Remote Play Together',\n",
    "    47: 'LAN PvP',\n",
    "    48: 'LAN Co-op',\n",
    "    49: 'PvP',\n",
    "    51: 'Steam Workshop',\n",
    "    52: 'Tracked Controller Support',\n",
    "    53: 'VR Supported',\n",
    "    54: 'VR Only'\n",
    "}"
   ]
  },
  {
   "attachments": {},
   "cell_type": "markdown",
   "metadata": {},
   "source": [
    "#### Maps for the Genres"
   ]
  },
  {
   "cell_type": "code",
   "execution_count": 5,
   "metadata": {},
   "outputs": [],
   "source": [
    "ids_genres = {\n",
    "    1: 'Action',\n",
    "    2: 'Strategy',\n",
    "    3: 'RPG',\n",
    "    4: 'Casual',\n",
    "    9: 'Racing',\n",
    "    18: 'Sports',\n",
    "    23: 'Indie',\n",
    "    25: 'Adventure',\n",
    "    28: 'Simulation',\n",
    "    29: 'Massively Multiplayer',\n",
    "    37: 'Free to Play',\n",
    "    50: 'Accounting',\n",
    "    51: 'Animation & Modeling',\n",
    "    52: 'Audio Production',\n",
    "    53: 'Design & Illustration',\n",
    "    54: 'Education',\n",
    "    55: 'Photo Editing',\n",
    "    56: 'Software Training',\n",
    "    57: 'Utilities',\n",
    "    58: 'Video Production',\n",
    "    59: 'Web Publishing',\n",
    "    60: 'Game Development',\n",
    "    70: 'Early Access',\n",
    "    71: 'Sexual Content',\n",
    "    72: 'Nudity',\n",
    "    73: 'Violent',\n",
    "    74: 'Gore',\n",
    "    80: 'Movie',\n",
    "    81: 'Documentary',\n",
    "    82: 'Episodic',\n",
    "    83: 'Short',\n",
    "    84: 'Tutorial',\n",
    "    85: '360 Video'\n",
    "}"
   ]
  },
  {
   "cell_type": "code",
   "execution_count": 6,
   "metadata": {},
   "outputs": [],
   "source": [
    "# Convert the 'categories' and 'genres' column to strings\n",
    "df['categories'] = df['categories'].astype(str)\n",
    "df['genres'] = df['genres'].astype(str)"
   ]
  },
  {
   "cell_type": "code",
   "execution_count": 7,
   "metadata": {},
   "outputs": [],
   "source": [
    "# Replace missing values with a placeholder\n",
    "df['categories'].replace('', np.nan, inplace=True)\n",
    "df['genres'].replace('', np.nan, inplace=True)"
   ]
  },
  {
   "cell_type": "code",
   "execution_count": 8,
   "metadata": {},
   "outputs": [],
   "source": [
    "# Replace the IDs in each cell with their corresponding descriptions\n",
    "df['categories_Description'] = df['categories'].apply(lambda x: ', '.join([ids_categories[int(id)] for id in x.split(',') if id.strip().isdigit() and int(id) in ids_categories]))"
   ]
  },
  {
   "cell_type": "code",
   "execution_count": 9,
   "metadata": {},
   "outputs": [],
   "source": [
    "# Replace the IDs in each cell with their corresponding descriptions\n",
    "df['genres_Description'] = df['genres'].apply(lambda x: ', '.join([ids_genres[int(id)] for id in x.split(',') if id.strip().isdigit() and int(id) in ids_genres]))"
   ]
  },
  {
   "cell_type": "code",
   "execution_count": 10,
   "metadata": {},
   "outputs": [],
   "source": [
    "# since we dont need these columns anymore...\n",
    "columns_to_exclude = ['categories', 'genres']\n",
    "\n",
    "df = df.drop(columns=columns_to_exclude)"
   ]
  },
  {
   "attachments": {},
   "cell_type": "markdown",
   "metadata": {},
   "source": [
    "#### This was a really long process...\n",
    "#### Will do some more cleaning and we are almost done"
   ]
  },
  {
   "cell_type": "code",
   "execution_count": 11,
   "metadata": {},
   "outputs": [
    {
     "name": "stdout",
     "output_type": "stream",
     "text": [
      "<class 'pandas.core.frame.DataFrame'>\n",
      "RangeIndex: 11278 entries, 0 to 11277\n",
      "Data columns (total 23 columns):\n",
      " #   Column                             Non-Null Count  Dtype  \n",
      "---  ------                             --------------  -----  \n",
      " 0   Game                               11278 non-null  object \n",
      " 1   Steam_AppID                        11278 non-null  int64  \n",
      " 2   Minimum_age                        11278 non-null  int64  \n",
      " 3   Free                               11278 non-null  int64  \n",
      " 4   About_the_Game                     10950 non-null  object \n",
      " 5   Developers                         10937 non-null  object \n",
      " 6   Publishers                         10896 non-null  object \n",
      " 7   Windows_Support                    11278 non-null  int64  \n",
      " 8   Mac_Support                        11278 non-null  int64  \n",
      " 9   Linux_Support                      11278 non-null  int64  \n",
      " 10  Metacritic_Score                   670 non-null    float64\n",
      " 11  Recommendations                    11278 non-null  int64  \n",
      " 12  Release_Date                       11278 non-null  int64  \n",
      " 13  content_descriptors.notes          1588 non-null   object \n",
      " 14  Count_DLC                          11278 non-null  int64  \n",
      " 15  Total_Achievements                 11278 non-null  int64  \n",
      " 16  Full_Controller_Support            11278 non-null  int64  \n",
      " 17  DRM_Protection                     11278 non-null  int64  \n",
      " 18  price_overview.recurring_sub_desc  11278 non-null  object \n",
      " 19  Price_In_Euros                     11278 non-null  float64\n",
      " 20  Original_Price                     11278 non-null  float64\n",
      " 21  categories_Description             11278 non-null  object \n",
      " 22  genres_Description                 11278 non-null  object \n",
      "dtypes: float64(3), int64(12), object(8)\n",
      "memory usage: 2.0+ MB\n"
     ]
    }
   ],
   "source": [
    "df.info()"
   ]
  },
  {
   "cell_type": "code",
   "execution_count": 12,
   "metadata": {},
   "outputs": [],
   "source": [
    "#this contains prices wich are nov very much useful, so will change to \"1\" if is a Subscription based\n",
    "df['Is_Subscription'] = df['price_overview.recurring_sub_desc'].apply(lambda x: 1 if x != 0 else x)\n",
    "df.drop(columns=['price_overview.recurring_sub_desc'], inplace=True)"
   ]
  },
  {
   "cell_type": "code",
   "execution_count": 13,
   "metadata": {},
   "outputs": [],
   "source": [
    "df.rename(columns={'Price_In_Euros': 'Discounted_Price'}, inplace=True)"
   ]
  },
  {
   "cell_type": "code",
   "execution_count": 14,
   "metadata": {},
   "outputs": [],
   "source": [
    "# this was helpful before \n",
    "df.drop(columns=['content_descriptors.notes'], inplace=True)"
   ]
  },
  {
   "cell_type": "code",
   "execution_count": 15,
   "metadata": {},
   "outputs": [],
   "source": [
    "# Convert the \"Release_Date\" column to datetime, again...\n",
    "df['Release_Date'] = pd.to_datetime(df['Release_Date'], origin='1900-01-01', unit='D').dt.date"
   ]
  },
  {
   "attachments": {},
   "cell_type": "markdown",
   "metadata": {},
   "source": [
    "### Finally, all cleaned"
   ]
  },
  {
   "cell_type": "code",
   "execution_count": 16,
   "metadata": {},
   "outputs": [],
   "source": [
    "df.to_excel('data/steam_data_cleaned.xlsx', index=0)"
   ]
  }
 ],
 "metadata": {
  "kernelspec": {
   "display_name": "base",
   "language": "python",
   "name": "python3"
  },
  "language_info": {
   "codemirror_mode": {
    "name": "ipython",
    "version": 3
   },
   "file_extension": ".py",
   "mimetype": "text/x-python",
   "name": "python",
   "nbconvert_exporter": "python",
   "pygments_lexer": "ipython3",
   "version": "3.9.15"
  },
  "orig_nbformat": 4
 },
 "nbformat": 4,
 "nbformat_minor": 2
}
